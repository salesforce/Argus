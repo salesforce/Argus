{
 "cells": [
  {
   "cell_type": "code",
   "execution_count": null,
   "metadata": {
    "collapsed": false
   },
   "outputs": [],
   "source": [
    "import heapq\n",
    "import requests as req\n",
    "import json\n",
    "import matplotlib.pyplot as plt\n",
    "import numpy as np\n",
    "import pandas as pd\n",
    "import pywt\n",
    "import scipy as sp\n",
    "from scipy import fftpack\n",
    "from scipy import interpolate\n",
    "from scipy import signal\n",
    "from scipy import stats\n",
    "from sortedcontainers import SortedDict as sd\n",
    "from collections import Counter\n",
    "\n",
    "%matplotlib inline"
   ]
  },
  {
   "cell_type": "code",
   "execution_count": null,
   "metadata": {
    "collapsed": false
   },
   "outputs": [],
   "source": [
    "ROOT = 'http://localhost:8080/argusws'\n",
    "with open('.login.txt') as login:\n",
    "    username = login.readline().rstrip()\n",
    "    password = login.readline().rstrip()\n",
    "login_info = json.dumps({'username':username, 'password':password})\n",
    "headers = {'content-type':'application/json'}"
   ]
  },
  {
   "cell_type": "code",
   "execution_count": null,
   "metadata": {
    "collapsed": false
   },
   "outputs": [],
   "source": [
    "auth = req.post(ROOT + '/auth/login', data=login_info, headers=headers)\n",
    "cookies = auth.cookies"
   ]
  },
  {
   "cell_type": "code",
   "execution_count": null,
   "metadata": {
    "collapsed": false
   },
   "outputs": [],
   "source": [
    "r = req.get(ROOT + '/metrics?expression=-20d:argus.jvm:mem.heap.used:avg', headers=headers, cookies=cookies)\n",
    "data = sd(r.json()[0]['datapoints'])"
   ]
  },
  {
   "cell_type": "code",
   "execution_count": null,
   "metadata": {
    "collapsed": false
   },
   "outputs": [],
   "source": [
    "keys = [int(key) for key in data.keys()]\n",
    "diff_counts = Counter([keys[i+1] - keys[i] for i in range(len(keys)-1)])\n",
    "values = [float(data[key]) for key in sorted(data.keys())]"
   ]
  },
  {
   "cell_type": "code",
   "execution_count": null,
   "metadata": {
    "collapsed": false
   },
   "outputs": [],
   "source": [
    "def plot_original_data(keys, values):\n",
    "    plt.plot(keys, values)\n",
    "    plt.title('Original Data')\n",
    "    plt.show()\n",
    "plot_original_data(keys, values)"
   ]
  },
  {
   "cell_type": "code",
   "execution_count": null,
   "metadata": {
    "collapsed": true
   },
   "outputs": [],
   "source": [
    "def get_data(filename):\n",
    "    df = pd.read_csv(filename, skipfooter=3)\n",
    "    data = df.iloc[:-1, 1]\n",
    "    data = [float(num) for num in data]\n",
    "    times = [i for i in range(len(data))]\n",
    "    return times, data"
   ]
  },
  {
   "cell_type": "code",
   "execution_count": null,
   "metadata": {
    "collapsed": true
   },
   "outputs": [],
   "source": [
    "def most_common_diff(lst):\n",
    "    diffs = [lst[i+1] - lst[i] for i in range(len(lst) - 1)]\n",
    "    return Counter(diffs).most_common(1)[0][1]"
   ]
  },
  {
   "cell_type": "code",
   "execution_count": null,
   "metadata": {
    "collapsed": true
   },
   "outputs": [],
   "source": [
    "def fill_interpolate(time, values):\n",
    "    f = interpolate.interp1d(time, values)\n",
    "    norm_times = [i for i in range(time[0], time[-1], most_common_diff(time))]\n",
    "    print(Counter([norm_times[i+1] - norm_times[i] for i in range(len(norm_times) - 1)]))\n",
    "    return norm_times, f(norm_times)"
   ]
  },
  {
   "cell_type": "code",
   "execution_count": null,
   "metadata": {
    "collapsed": false
   },
   "outputs": [],
   "source": [
    "def wavelet_anomaly(time, values):\n",
    "    cA, cD = pywt.dwt(values, 'db2')\n",
    "    approx = pywt.idwt(cA, np.zeros((len(cD,))), 'db2')\n",
    "    if len(values) != len(approx):\n",
    "        approx = approx[:-1]\n",
    "    \n",
    "    resid = values - approx\n",
    "\n",
    "    plt.plot(time, approx)\n",
    "    plt.title('Approximation')\n",
    "    plt.show()\n",
    "\n",
    "    plt.plot(time, resid)\n",
    "    plt.title('Residuals')\n",
    "    plt.show()\n",
    "    return resid"
   ]
  },
  {
   "cell_type": "code",
   "execution_count": null,
   "metadata": {
    "collapsed": true
   },
   "outputs": [],
   "source": [
    "def gaussian_pdf(resid):\n",
    "    mean = np.mean(resid)\n",
    "    std = np.std(resid)\n",
    "    gaussian = (1 - stats.norm.pdf((resid - [mean]*len(resid))/std)/stats.norm.pdf(0))\n",
    "    return gaussian"
   ]
  },
  {
   "cell_type": "code",
   "execution_count": null,
   "metadata": {
    "collapsed": true
   },
   "outputs": [],
   "source": [
    "def symmetric_anomaly_graph(filename):\n",
    "    times, data = get_data(filename)\n",
    "    plot_original_data(times, data)\n",
    "    resid = wavelet_anomaly(times, data)\n",
    "    gauss = gaussian_pdf(resid)\n",
    "    plt.plot(times, gauss)\n",
    "    plt.title('Gaussian Values')\n",
    "    plt.show()\n",
    "    return times, resid\n",
    "\n",
    "def anomaly_graph(times, data):\n",
    "    resid = wavelet_anomaly(times, data)\n",
    "    gauss = gaussian_pdf(resid)\n",
    "    plt.plot(times, gauss)\n",
    "    plt.title('Gaussian Values')\n",
    "    plt.show()\n",
    "    return times, resid"
   ]
  },
  {
   "cell_type": "code",
   "execution_count": null,
   "metadata": {
    "collapsed": true
   },
   "outputs": [],
   "source": [
    "def fft_components(time_series_dict):\n",
    "    keys = sorted(time_series_dict.keys())\n",
    "    values = [time_series_dict[key] for key in keys]\n",
    "    components = np.fft.rfft(values)\n",
    "    return components\n",
    "\n",
    "def fft_components(times, values):\n",
    "    components = np.fft.rfft(values)\n",
    "    return components"
   ]
  },
  {
   "cell_type": "code",
   "execution_count": null,
   "metadata": {
    "collapsed": false
   },
   "outputs": [],
   "source": [
    "resid = wavelet_anomaly(keys, values)\n",
    "gauss = gaussian_pdf(resid)\n",
    "plt.plot(keys, gauss)"
   ]
  },
  {
   "cell_type": "code",
   "execution_count": null,
   "metadata": {
    "collapsed": true
   },
   "outputs": [],
   "source": [
    "milk_data = pd.read_csv('/Users/vmuruganantham/Downloads/monthly-milk-production-pounds-p.csv')"
   ]
  },
  {
   "cell_type": "code",
   "execution_count": null,
   "metadata": {
    "collapsed": false
   },
   "outputs": [],
   "source": [
    "milk_vals = milk_data.iloc[:,1]\n",
    "milk_times = [i for i in range(len(milk_vals))]"
   ]
  },
  {
   "cell_type": "code",
   "execution_count": null,
   "metadata": {
    "collapsed": false
   },
   "outputs": [],
   "source": [
    "milk_resid = wavelet_anomaly(milk_times, milk_vals)"
   ]
  },
  {
   "cell_type": "code",
   "execution_count": null,
   "metadata": {
    "collapsed": true
   },
   "outputs": [],
   "source": [
    "wolfer_data = pd.read_csv('/Users/vmuruganantham/Downloads/wolfer-sunspot-numbers-1770-to-1.csv').iloc[:-1,1]\n",
    "wolfer_data = [int(num) for num in wolfer_data]\n",
    "wolfer_times = [i for i in range(len(wolfer_data))]"
   ]
  },
  {
   "cell_type": "code",
   "execution_count": null,
   "metadata": {
    "collapsed": false
   },
   "outputs": [],
   "source": [
    "wavelet_anomaly(wolfer_times, wolfer_data)"
   ]
  },
  {
   "cell_type": "code",
   "execution_count": null,
   "metadata": {
    "collapsed": false,
    "scrolled": true
   },
   "outputs": [],
   "source": [
    "# symmetric_anomaly_graph('/Users/vmuruganantham/Downloads/co2-ppm-mauna-loa-19651980.csv')\n",
    "times, data = get_data('/Users/vmuruganantham/Downloads/co2-ppm-mauna-loa-19651980.csv')\n",
    "new_data = data[:len(data)//2]\n",
    "new_data += [data[i] - np.mean(data)/25 for i in range(len(data)//2, 2*len(data)//3)]\n",
    "new_data += data[2*len(data)//3:]\n",
    "anomaly_graph(times, data)"
   ]
  },
  {
   "cell_type": "code",
   "execution_count": null,
   "metadata": {
    "collapsed": false
   },
   "outputs": [],
   "source": [
    "filled_times, filled_vals = fill_interpolate(keys, values)"
   ]
  },
  {
   "cell_type": "code",
   "execution_count": null,
   "metadata": {
    "collapsed": false
   },
   "outputs": [],
   "source": [
    "N = len(filled_times)\n",
    "T = filled_times[1] - filled_times[0]\n",
    "frq = np.arange(N)/(N/(1/27419))\n",
    "frq = frq[range(int(N/2))]\n",
    "y = np.fft.fft(filled_vals)/N\n",
    "y = y[range(int(N/2))]"
   ]
  },
  {
   "cell_type": "code",
   "execution_count": null,
   "metadata": {
    "collapsed": false
   },
   "outputs": [],
   "source": [
    "plt.plot(frq, abs(y), 'o')\n",
    "plt.show()"
   ]
  },
  {
   "cell_type": "code",
   "execution_count": null,
   "metadata": {
    "collapsed": false
   },
   "outputs": [],
   "source": [
    "times, data = get_data('/Users/vmuruganantham/Downloads/internet-traffic-data-in-bits-fr.csv')\n",
    "new_data = data[:len(data)//2]\n",
    "new_data += [data[i] + np.mean(data) for i in range(len(data)//2, 2*len(data)//3)]\n",
    "new_data += data[2*len(data)//3:]\n",
    "anomaly_graph(times, new_data)\n",
    "# times, data = symmetric_anomaly_graph('/Users/vmuruganantham/Downloads/internet-traffic-data-in-bits-fr.csv')"
   ]
  },
  {
   "cell_type": "code",
   "execution_count": null,
   "metadata": {
    "collapsed": false
   },
   "outputs": [],
   "source": [
    "times, data = anomaly_graph(times, data)"
   ]
  },
  {
   "cell_type": "code",
   "execution_count": null,
   "metadata": {
    "collapsed": false
   },
   "outputs": [],
   "source": [
    "symmetric_anomaly_graph('/Users/vmuruganantham/Downloads/monthly-car-sales-in-quebec-1960.csv')"
   ]
  },
  {
   "cell_type": "code",
   "execution_count": null,
   "metadata": {
    "collapsed": false
   },
   "outputs": [],
   "source": [
    "x = np.tile(np.arange(0,2*np.pi, np.pi/100), 500)\n",
    "y = np.tile((x+np.pi/2) % np.pi - np.pi/2, 500)\n",
    "plt.plot(y)\n",
    "plt.show()\n",
    "spectral = np.fft.rfft(y)/len(y)\n",
    "spectral = spectral[range(len(y)//2)]\n",
    "plt.plot(abs(spectral))\n",
    "print(abs(spectral))"
   ]
  },
  {
   "cell_type": "code",
   "execution_count": null,
   "metadata": {
    "collapsed": false
   },
   "outputs": [],
   "source": [
    "fs = 10e3\n",
    "N = 1e5\n",
    "amp = 2 * np.sqrt(2)\n",
    "noise_power = 0.001 * fs / 2\n",
    "time = np.arange(N) / fs\n",
    "freq = np.linspace(1e3, 2e3, N)\n",
    "x = amp * np.sin(2*np.pi*freq*time)\n",
    "# x += np.random.normal(scale=np.sqrt(noise_power), size=time.shape)\n",
    "# plt.plot(x[:1000])\n",
    "# plt.show()\n",
    "f, t, Sxx = signal.spectrogram(y, fs)\n",
    "plt.pcolormesh(t, f, Sxx)\n",
    "plt.ylabel('Frequency [Hz]')\n",
    "plt.xlabel('Time [sec]')\n",
    "plt.show()"
   ]
  },
  {
   "cell_type": "code",
   "execution_count": null,
   "metadata": {
    "collapsed": false
   },
   "outputs": [],
   "source": [
    "times, values = get_data('/Users/vmuruganantham/Downloads/co2-ppm-mauna-loa-19651980.csv')\n",
    "f = np.linspace(1, len(times), 10)\n",
    "lspgram = sp.signal.lombscargle(np.ndarray(times), np.ndarray(values), f)\n",
    "plt.plot(f, np.sqrt(4*(lspgram/len(times))))"
   ]
  },
  {
   "cell_type": "code",
   "execution_count": null,
   "metadata": {
    "collapsed": true
   },
   "outputs": [],
   "source": []
  }
 ],
 "metadata": {
  "kernelspec": {
   "display_name": "Python 3",
   "language": "python",
   "name": "python3"
  },
  "language_info": {
   "codemirror_mode": {
    "name": "ipython",
    "version": 3
   },
   "file_extension": ".py",
   "mimetype": "text/x-python",
   "name": "python",
   "nbconvert_exporter": "python",
   "pygments_lexer": "ipython3",
   "version": "3.5.1"
  }
 },
 "nbformat": 4,
 "nbformat_minor": 0
}
